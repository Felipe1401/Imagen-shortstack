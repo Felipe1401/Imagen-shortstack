{
  "cells": [
    {
      "cell_type": "markdown",
      "id": "b58e72f7",
      "metadata": {
        "id": "b58e72f7"
      },
      "source": [
        "[![Open In Colab](https://colab.research.google.com/assets/colab-badge.svg)](\n",
        "https://colab.research.google.com/github/AGENslab/Python_learning-Sesion_1/blob/main/notebooks/example_solutions.ipynb\n",
        ")"
      ]
    },
    {
      "cell_type": "markdown",
      "id": "34ed218c",
      "metadata": {
        "id": "34ed218c"
      },
      "source": [
        "# 🧪 Sesión 1 – Fundamentos de Python para Ciencias Biológicas\n",
        "\n",
        "**22/08/2025 – Dra. Carol Moraga e Ing. Felipe Gómez**\n",
        "\n",
        "Bienvenid@. En este notebook practicaremos:\n",
        "- Sintaxis básica de Python\n",
        "- Estructuras de datos\n",
        "- Control de flujo y funciones\n",
        "- Lectura de un FASTA, GC% y k-mers"
      ]
    },
    {
      "cell_type": "markdown",
      "id": "92451cc1",
      "metadata": {
        "id": "92451cc1"
      },
      "source": [
        "## 📁 Configuración mínima\n",
        "\n",
        "Si corres en **Colab**, ejecuta la celda de abajo para subir el archivo `data/ejemplo.fasta` desde tu equipo (o monta Drive)."
      ]
    },
    {
      "cell_type": "code",
      "execution_count": 21,
      "id": "82ce1a7c",
      "metadata": {
        "id": "82ce1a7c"
      },
      "outputs": [],
      "source": [
        "# En Colab, descomenta para subir archivos manualmente\n",
        "#!wget https://raw.githubusercontent.com/AGENslab/Python_learning-Sesion_1/refs/heads/main/data/ejemplo.fasta"
      ]
    },
    {
      "cell_type": "markdown",
      "id": "5a5db6cc",
      "metadata": {
        "id": "5a5db6cc"
      },
      "source": [
        "## 🔤 Sintaxis básica: variables y tipos"
      ]
    },
    {
      "cell_type": "code",
      "execution_count": null,
      "id": "ac563bcc",
      "metadata": {
        "id": "ac563bcc"
      },
      "outputs": [],
      "source": [
        "entero = 42\n",
        "pi = 3.14159\n",
        "mensaje = \"Hola bio-mundo\"\n",
        "es_valido = True\n",
        "\n",
        "print(type(entero), type(pi), type(mensaje), type(es_valido))\n",
        "assert isinstance(entero, int)\n",
        "assert isinstance(mensaje, str)"
      ]
    },
    {
      "cell_type": "markdown",
      "id": "dc0a2e45",
      "metadata": {
        "id": "dc0a2e45"
      },
      "source": [
        "## 🧱 Estructuras de datos: listas y diccionarios"
      ]
    },
    {
      "cell_type": "code",
      "execution_count": null,
      "id": "ceae9182",
      "metadata": {
        "id": "ceae9182"
      },
      "outputs": [],
      "source": [
        "# Lista de longitudes de secuencias (ficticias)\n",
        "longitudes = [120, 98, 301, 250]\n",
        "# Diccionario: id -> especie\n",
        "metadatos = {\"seq1\": \"E. coli\", \"seq2\": \"A. thaliana\"}\n",
        "\n",
        "# Operaciones básicas\n",
        "longitudes.append(180)\n",
        "promedio = sum(longitudes) / len(longitudes)\n",
        "\n",
        "print(\"N:\", len(longitudes), \"Promedio:\", round(promedio, 2))\n",
        "print(\"Especies:\", list(metadatos.values()))\n",
        "\n",
        "assert len(longitudes) == 5\n",
        "assert \"seq1\" in metadatos"
      ]
    },
    {
      "cell_type": "markdown",
      "id": "b544d89f",
      "metadata": {
        "id": "b544d89f"
      },
      "source": [
        "## 🔁 Control de flujo: `if`, `for`"
      ]
    },
    {
      "cell_type": "code",
      "execution_count": null,
      "id": "2559c5a6",
      "metadata": {
        "id": "2559c5a6"
      },
      "outputs": [],
      "source": [
        "# Clasifica longitudes en cortas/medias/largas\n",
        "clasificacion = []\n",
        "for L in longitudes:\n",
        "    if L < 120:\n",
        "        clasificacion.append(\"corta\")\n",
        "    elif L <= 250:\n",
        "        clasificacion.append(\"media\")\n",
        "    else:\n",
        "        clasificacion.append(\"larga\")\n",
        "\n",
        "clasificacion"
      ]
    },
    {
      "cell_type": "markdown",
      "id": "42722b3b",
      "metadata": {
        "id": "42722b3b"
      },
      "source": [
        "## 🧩 Funciones"
      ]
    },
    {
      "cell_type": "code",
      "execution_count": 25,
      "id": "290aa00e",
      "metadata": {
        "id": "290aa00e"
      },
      "outputs": [],
      "source": [
        "def es_base(b):\n",
        "    return b in {\"A\", \"C\", \"G\", \"T\"}\n",
        "\n",
        "# Pruebas rápidas\n",
        "assert es_base(\"A\") and not es_base(\"N\")"
      ]
    },
    {
      "cell_type": "markdown",
      "id": "f9c450f8",
      "metadata": {
        "id": "f9c450f8"
      },
      "source": [
        "## 📄 Lectura de FASTA (sin librerías externas)\n",
        "\n",
        "Implementaremos una función mínima que lea un archivo FASTA simple y retorne un diccionario `id -> secuencia`."
      ]
    },
    {
      "cell_type": "code",
      "execution_count": null,
      "id": "b2017811",
      "metadata": {
        "id": "b2017811"
      },
      "outputs": [],
      "source": [
        "from pathlib import Path\n",
        "\n",
        "def leer_fasta(path):\n",
        "    # Lee un FASTA simple y retorna dict id->secuencia (en mayúsculas, sin espacios).\n",
        "    seqs = {}\n",
        "    current_id = None\n",
        "    parts = []\n",
        "    with open(path, \"r\") as fh:\n",
        "        for line in fh:\n",
        "            line = line.strip()\n",
        "            if not line:\n",
        "                continue\n",
        "            if line.startswith(\">\"):\n",
        "                if current_id is not None:\n",
        "                    seqs[current_id] = \"\".join(parts).upper()\n",
        "                current_id = line[1:].split()[0]\n",
        "                parts = []\n",
        "            else:\n",
        "                parts.append(line)\n",
        "        if current_id is not None:\n",
        "            seqs[current_id] = \"\".join(parts).upper()\n",
        "    return seqs\n",
        "\n",
        "# Carga ejemplo (ajusta ruta si es necesario)\n",
        "fasta_path = Path(\"/content/ejemplo.fasta\")\n",
        "if not fasta_path.exists():\n",
        "    print(\"No se encontró /content/ejemplo.fasta Sube el archivo o ajusta la ruta.\")\n",
        "else:\n",
        "    seqs = leer_fasta(fasta_path)\n",
        "    print(\"Cargadas:\", len(seqs), \"secuencias\")\n",
        "    # Muestra 1 ejemplo\n",
        "    for k, v in list(seqs.items())[:1]:\n",
        "        print(k, v[:60] + (\"...\" if len(v) > 60 else \"\"))"
      ]
    },
    {
      "cell_type": "markdown",
      "id": "3d145752",
      "metadata": {
        "id": "3d145752"
      },
      "source": [
        "## 🧮 GC% por secuencia y global\n",
        "\n",
        "Escribe una función `gc_percent(seq)` que retorne el porcentaje de G y C sobre A/C/G/T (ignora otras letras)."
      ]
    },
    {
      "cell_type": "code",
      "execution_count": 27,
      "id": "5238c9be",
      "metadata": {
        "id": "5238c9be"
      },
      "outputs": [],
      "source": [
        "def gc_percent(seq):\n",
        "    bases = [b for b in seq if b in \"ACGT\"]\n",
        "    if not bases:\n",
        "        return 0.0\n",
        "    g = seq.count(\"G\")\n",
        "    c = seq.count(\"C\")\n",
        "    return 100.0 * (g + c) / len(bases)\n",
        "\n",
        "# Pruebas\n",
        "assert abs(gc_percent(\"GCGC\") - 100.0) < 1e-6\n",
        "assert abs(gc_percent(\"ATAT\") - 0.0) < 1e-6"
      ]
    },
    {
      "cell_type": "code",
      "execution_count": null,
      "id": "0fbba08a",
      "metadata": {
        "id": "0fbba08a"
      },
      "outputs": [],
      "source": [
        "# Si cargaste 'seqs', calcula GC% por id y el global\n",
        "if 'seqs' in globals():\n",
        "    gc_por_id = {sid: gc_percent(s) for sid, s in seqs.items()}\n",
        "    gc_global = sum(gc_por_id.values()) / len(gc_por_id) if gc_por_id else 0.0\n",
        "    print(\"GC% global:\", round(gc_global, 2))\n",
        "    list(gc_por_id.items())[:5]"
      ]
    },
    {
      "cell_type": "markdown",
      "id": "86f2085b",
      "metadata": {
        "id": "86f2085b"
      },
      "source": [
        "## 🔢 Conteo de k-mers\n",
        "\n",
        "Implementa `contar_kmers(seq, k)` que retorne un diccionario con la frecuencia de cada k-mer (sólo A/C/G/T). Luego crea un *ranking* de los más frecuentes."
      ]
    },
    {
      "cell_type": "code",
      "execution_count": 29,
      "id": "4fc14c67",
      "metadata": {
        "id": "4fc14c67"
      },
      "outputs": [],
      "source": [
        "from collections import Counter\n",
        "\n",
        "def contar_kmers(seq, k=3):\n",
        "    seq = \"\".join([b for b in seq if b in \"ACGT\"])\n",
        "    counts = Counter()\n",
        "    for i in range(len(seq) - k + 1):\n",
        "        kmer = seq[i:i+k]\n",
        "        counts[kmer] += 1\n",
        "    return dict(counts)\n",
        "\n",
        "# Pruebas\n",
        "d = contar_kmers(\"AAACAAA\", k=3)  # AAA aparece 2 veces: AAA, AAA (pos 0,4)\n",
        "assert d.get(\"AAA\", 0) == 2"
      ]
    },
    {
      "cell_type": "code",
      "execution_count": null,
      "id": "b3bdf5e7",
      "metadata": {
        "id": "b3bdf5e7"
      },
      "outputs": [],
      "source": [
        "# Ranking de k-mers por secuencia y top global\n",
        "def top_kmers_de_seqs(seqs, k=3, top=10):\n",
        "    total = Counter()\n",
        "    por_id = {}\n",
        "    for sid, s in seqs.items():\n",
        "        c = Counter(contar_kmers(s, k))\n",
        "        por_id[sid] = c.most_common(top)\n",
        "        total.update(c)\n",
        "    return por_id, total.most_common(top)\n",
        "\n",
        "if 'seqs' in globals():\n",
        "    por_id, top_global = top_kmers_de_seqs(seqs, k=3, top=10)\n",
        "    print(\"Top global (k=3):\", top_global[:5])\n",
        "    # Muestra top 5 del primer id\n",
        "    first = next(iter(seqs)) if seqs else None\n",
        "    if first:\n",
        "        print(\"Top 5 de\", first, por_id[first][:5])"
      ]
    },
    {
      "cell_type": "markdown",
      "id": "a23e1c7d",
      "metadata": {
        "id": "a23e1c7d"
      },
      "source": [
        "## ✅ Cierre\n",
        "- Practicaste variables, estructuras y funciones en Python.\n",
        "- Leíste un FASTA simple y calculaste **GC%**.\n",
        "- Implementaste un contador de **k-mers** con ranking.\n",
        "\n",
        "**Desafíos opcionales:**\n",
        "1. Generaliza `gc_percent` para devolver también el conteo de cada base.\n",
        "2. Escribe una versión de `contar_kmers` que acepte alfabetos ambiguos (ej. `N`).\n",
        "3. Grafica el top-10 de k-mers con `matplotlib`."
      ]
    }
  ],
  "metadata": {
    "language_info": {
      "name": "python"
    },
    "colab": {
      "provenance": []
    },
    "kernelspec": {
      "name": "python3",
      "display_name": "Python 3"
    }
  },
  "nbformat": 4,
  "nbformat_minor": 5
}